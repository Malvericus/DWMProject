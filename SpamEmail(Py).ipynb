{
 "cells": [
  {
   "cell_type": "code",
   "execution_count": 69,
   "metadata": {},
   "outputs": [],
   "source": [
    "import pandas as pd\n",
    "import numpy as np\n",
    "import seaborn as sns\n",
    "import matplotlib.pyplot as plt"
   ]
  },
  {
   "cell_type": "code",
   "execution_count": null,
   "metadata": {},
   "outputs": [
    {
     "name": "stdout",
     "output_type": "stream",
     "text": [
      "New class distribution:\n",
      " Category\n",
      "ham     4825\n",
      "spam    4825\n",
      "Name: count, dtype: int64\n"
     ]
    }
   ],
   "source": [
    "# import random\n",
    "\n",
    "# # Spam templates\n",
    "# spam_templates = [\n",
    "#     \"Congratulations! You've won a {item}! Click here to claim now.\",\n",
    "#     \"You have been selected for a {offer}. Reply YES to claim.\",\n",
    "#     \"URGENT! Your account will be suspended. Verify at {link}\",\n",
    "#     \"Get a free {item} when you sign up now!\",\n",
    "#     \"Limited-time offer: {discount} off on all products!\",\n",
    "#     \"You’re pre-approved for a {loan} loan. Apply today.\",\n",
    "#     \"Win a brand new {item}! Just answer this question.\",\n",
    "#     \"Claim your {discount} discount voucher at {link}\",\n",
    "#     \"Your prize is waiting! Visit {link} to unlock now.\",\n",
    "#     \"Don’t miss this {offer}. Act now!\"\n",
    "# ]\n",
    "\n",
    "# # Dynamic fields\n",
    "# items = ['iPhone', 'gift card', 'trip to Bali', 'laptop', 'smartwatch']\n",
    "# offers = ['free subscription', 'special reward', 'bonus offer']\n",
    "# discounts = ['50%', '70%', '90%']\n",
    "# links = ['bit.ly/win', 'spamnow.com/claim', 'getprize.net']\n",
    "# loans = ['$10,000', '$5,000', '$25,000']\n",
    "\n",
    "# # Generate 4078 synthetic spam messages\n",
    "# synthetic_spam = []\n",
    "# for _ in range(4078):\n",
    "#     template = random.choice(spam_templates)\n",
    "#     msg = template.format(\n",
    "#         item=random.choice(items),\n",
    "#         offer=random.choice(offers),\n",
    "#         discount=random.choice(discounts),\n",
    "#         link=random.choice(links),\n",
    "#         loan=random.choice(loans)\n",
    "#     )\n",
    "#     synthetic_spam.append(['spam', msg])\n",
    "\n",
    "# # Create new DataFrame\n",
    "# df_synthetic = pd.DataFrame(synthetic_spam, columns=['Category', 'Message'])\n",
    "\n",
    "# # Combine and shuffle\n",
    "# df_balanced = pd.concat([df, df_synthetic], ignore_index=True)\n",
    "# df_balanced = df_balanced.sample(frac=1, random_state=42).reset_index(drop=True)\n",
    "\n",
    "# # Save new CSV\n",
    "# df_balanced.to_csv('spam_balanced.csv', index=False)\n",
    "# print(\"New class distribution:\\n\", df_balanced['Category'].value_counts())"
   ]
  },
  {
   "cell_type": "code",
   "execution_count": 74,
   "metadata": {},
   "outputs": [
    {
     "data": {
      "text/html": [
       "<div>\n",
       "<style scoped>\n",
       "    .dataframe tbody tr th:only-of-type {\n",
       "        vertical-align: middle;\n",
       "    }\n",
       "\n",
       "    .dataframe tbody tr th {\n",
       "        vertical-align: top;\n",
       "    }\n",
       "\n",
       "    .dataframe thead th {\n",
       "        text-align: right;\n",
       "    }\n",
       "</style>\n",
       "<table border=\"1\" class=\"dataframe\">\n",
       "  <thead>\n",
       "    <tr style=\"text-align: right;\">\n",
       "      <th></th>\n",
       "      <th>Category</th>\n",
       "      <th>Message</th>\n",
       "    </tr>\n",
       "  </thead>\n",
       "  <tbody>\n",
       "    <tr>\n",
       "      <th>0</th>\n",
       "      <td>ham</td>\n",
       "      <td>Does uncle timi help in clearing cars</td>\n",
       "    </tr>\n",
       "    <tr>\n",
       "      <th>1</th>\n",
       "      <td>ham</td>\n",
       "      <td>Ya ok, then had dinner?</td>\n",
       "    </tr>\n",
       "    <tr>\n",
       "      <th>2</th>\n",
       "      <td>ham</td>\n",
       "      <td>Its ok, called mom instead have fun</td>\n",
       "    </tr>\n",
       "    <tr>\n",
       "      <th>3</th>\n",
       "      <td>spam</td>\n",
       "      <td>Had your mobile 10 mths? Update to latest Oran...</td>\n",
       "    </tr>\n",
       "    <tr>\n",
       "      <th>4</th>\n",
       "      <td>ham</td>\n",
       "      <td>Watching ajith film ah?</td>\n",
       "    </tr>\n",
       "  </tbody>\n",
       "</table>\n",
       "</div>"
      ],
      "text/plain": [
       "  Category                                            Message\n",
       "0      ham              Does uncle timi help in clearing cars\n",
       "1      ham                            Ya ok, then had dinner?\n",
       "2      ham                Its ok, called mom instead have fun\n",
       "3     spam  Had your mobile 10 mths? Update to latest Oran...\n",
       "4      ham                            Watching ajith film ah?"
      ]
     },
     "execution_count": 74,
     "metadata": {},
     "output_type": "execute_result"
    }
   ],
   "source": [
    "df = pd.read_csv('spam_balanced.csv')\n",
    "df.head()"
   ]
  },
  {
   "cell_type": "code",
   "execution_count": 75,
   "metadata": {},
   "outputs": [
    {
     "data": {
      "text/html": [
       "<div>\n",
       "<style scoped>\n",
       "    .dataframe tbody tr th:only-of-type {\n",
       "        vertical-align: middle;\n",
       "    }\n",
       "\n",
       "    .dataframe tbody tr th {\n",
       "        vertical-align: top;\n",
       "    }\n",
       "\n",
       "    .dataframe thead tr th {\n",
       "        text-align: left;\n",
       "    }\n",
       "\n",
       "    .dataframe thead tr:last-of-type th {\n",
       "        text-align: right;\n",
       "    }\n",
       "</style>\n",
       "<table border=\"1\" class=\"dataframe\">\n",
       "  <thead>\n",
       "    <tr>\n",
       "      <th></th>\n",
       "      <th colspan=\"4\" halign=\"left\">Message</th>\n",
       "    </tr>\n",
       "    <tr>\n",
       "      <th></th>\n",
       "      <th>count</th>\n",
       "      <th>unique</th>\n",
       "      <th>top</th>\n",
       "      <th>freq</th>\n",
       "    </tr>\n",
       "    <tr>\n",
       "      <th>Category</th>\n",
       "      <th></th>\n",
       "      <th></th>\n",
       "      <th></th>\n",
       "      <th></th>\n",
       "    </tr>\n",
       "  </thead>\n",
       "  <tbody>\n",
       "    <tr>\n",
       "      <th>ham</th>\n",
       "      <td>4825</td>\n",
       "      <td>4516</td>\n",
       "      <td>Sorry, I'll call later</td>\n",
       "      <td>30</td>\n",
       "    </tr>\n",
       "    <tr>\n",
       "      <th>spam</th>\n",
       "      <td>4825</td>\n",
       "      <td>683</td>\n",
       "      <td>Don’t miss this special reward. Act now!</td>\n",
       "      <td>153</td>\n",
       "    </tr>\n",
       "  </tbody>\n",
       "</table>\n",
       "</div>"
      ],
      "text/plain": [
       "         Message                                                      \n",
       "           count unique                                       top freq\n",
       "Category                                                              \n",
       "ham         4825   4516                    Sorry, I'll call later   30\n",
       "spam        4825    683  Don’t miss this special reward. Act now!  153"
      ]
     },
     "execution_count": 75,
     "metadata": {},
     "output_type": "execute_result"
    }
   ],
   "source": [
    "df.groupby('Category').describe()"
   ]
  },
  {
   "cell_type": "code",
   "execution_count": 76,
   "metadata": {},
   "outputs": [
    {
     "data": {
      "text/html": [
       "<div>\n",
       "<style scoped>\n",
       "    .dataframe tbody tr th:only-of-type {\n",
       "        vertical-align: middle;\n",
       "    }\n",
       "\n",
       "    .dataframe tbody tr th {\n",
       "        vertical-align: top;\n",
       "    }\n",
       "\n",
       "    .dataframe thead th {\n",
       "        text-align: right;\n",
       "    }\n",
       "</style>\n",
       "<table border=\"1\" class=\"dataframe\">\n",
       "  <thead>\n",
       "    <tr style=\"text-align: right;\">\n",
       "      <th></th>\n",
       "      <th>Category</th>\n",
       "      <th>Message</th>\n",
       "    </tr>\n",
       "  </thead>\n",
       "  <tbody>\n",
       "    <tr>\n",
       "      <th>0</th>\n",
       "      <td>0</td>\n",
       "      <td>Does uncle timi help in clearing cars</td>\n",
       "    </tr>\n",
       "    <tr>\n",
       "      <th>1</th>\n",
       "      <td>0</td>\n",
       "      <td>Ya ok, then had dinner?</td>\n",
       "    </tr>\n",
       "    <tr>\n",
       "      <th>2</th>\n",
       "      <td>0</td>\n",
       "      <td>Its ok, called mom instead have fun</td>\n",
       "    </tr>\n",
       "    <tr>\n",
       "      <th>3</th>\n",
       "      <td>1</td>\n",
       "      <td>Had your mobile 10 mths? Update to latest Oran...</td>\n",
       "    </tr>\n",
       "    <tr>\n",
       "      <th>4</th>\n",
       "      <td>0</td>\n",
       "      <td>Watching ajith film ah?</td>\n",
       "    </tr>\n",
       "  </tbody>\n",
       "</table>\n",
       "</div>"
      ],
      "text/plain": [
       "   Category                                            Message\n",
       "0         0              Does uncle timi help in clearing cars\n",
       "1         0                            Ya ok, then had dinner?\n",
       "2         0                Its ok, called mom instead have fun\n",
       "3         1  Had your mobile 10 mths? Update to latest Oran...\n",
       "4         0                            Watching ajith film ah?"
      ]
     },
     "execution_count": 76,
     "metadata": {},
     "output_type": "execute_result"
    }
   ],
   "source": [
    "df['Category'] = df['Category'].map({'ham': 0, 'spam': 1})\n",
    "df.head()"
   ]
  },
  {
   "cell_type": "code",
   "execution_count": 77,
   "metadata": {},
   "outputs": [],
   "source": [
    "df['Message'] = df['Message'].astype(str)"
   ]
  },
  {
   "cell_type": "code",
   "execution_count": 78,
   "metadata": {},
   "outputs": [
    {
     "name": "stdout",
     "output_type": "stream",
     "text": [
      "Class distribution:\n",
      " Category\n",
      "0    4825\n",
      "1    4825\n",
      "Name: count, dtype: int64\n"
     ]
    },
    {
     "data": {
      "image/png": "[encoded data removed]",
      "text/plain": [
       "<Figure size 640x480 with 1 Axes>"
      ]
     },
     "metadata": {},
     "output_type": "display_data"
    }
   ],
   "source": [
    "print(\"Class distribution:\\n\", df['Category'].value_counts())\n",
    "sns.countplot(data=df, x='Category')\n",
    "plt.xticks([0, 1], ['Ham', 'Spam'])\n",
    "plt.title('Distribution of Ham vs Spam')\n",
    "plt.show()"
   ]
  },
  {
   "cell_type": "code",
   "execution_count": 79,
   "metadata": {},
   "outputs": [
    {
     "data": {
      "image/png": "[encoded data removed]",
      "text/plain": [
       "<Figure size 640x480 with 1 Axes>"
      ]
     },
     "metadata": {},
     "output_type": "display_data"
    }
   ],
   "source": [
    "df['message_length'] = df['Message'].apply(len)\n",
    "sns.histplot(data=df, x='message_length', hue='Category', bins=50, kde=True)\n",
    "plt.title('Message Length Distribution')\n",
    "plt.show()\n"
   ]
  },
  {
   "cell_type": "code",
   "execution_count": 80,
   "metadata": {},
   "outputs": [],
   "source": [
    "from sklearn.model_selection import train_test_split\n",
    "from sklearn.feature_extraction.text import TfidfVectorizer\n",
    "from sklearn.svm import SVC\n",
    "from sklearn.ensemble import RandomForestClassifier\n",
    "from sklearn.metrics import accuracy_score, precision_score, recall_score, f1_score, confusion_matrix, classification_report"
   ]
  },
  {
   "cell_type": "code",
   "execution_count": 101,
   "metadata": {},
   "outputs": [],
   "source": [
    "vectorizer = TfidfVectorizer(stop_words='english', ngram_range=(1,2), min_df=5, max_df=0.95)\n",
    "X = vectorizer.fit_transform(df['Message'])\n",
    "y = df['Category']"
   ]
  },
  {
   "cell_type": "code",
   "execution_count": 102,
   "metadata": {},
   "outputs": [],
   "source": [
    "X_train, X_test, y_train, y_test = train_test_split(X, y, stratify=y, test_size=0.2, random_state=42)"
   ]
  },
  {
   "cell_type": "code",
   "execution_count": 103,
   "metadata": {},
   "outputs": [],
   "source": [
    "svm_model = SVC(class_weight='balanced')\n",
    "svm_model.fit(X_train, y_train)\n",
    "svm_pred = svm_model.predict(X_test)"
   ]
  },
  {
   "cell_type": "code",
   "execution_count": 104,
   "metadata": {},
   "outputs": [],
   "source": [
    "rf_model = RandomForestClassifier(random_state=42)\n",
    "rf_model.fit(X_train, y_train)\n",
    "rf_pred = rf_model.predict(X_test)"
   ]
  },
  {
   "cell_type": "code",
   "execution_count": 105,
   "metadata": {},
   "outputs": [],
   "source": [
    "def evaluate_model(y_true, y_pred, model_name):\n",
    "    return {\n",
    "        'Model': model_name,\n",
    "        'Accuracy': accuracy_score(y_true, y_pred),\n",
    "        'Precision': precision_score(y_true, y_pred),\n",
    "        'Recall': recall_score(y_true, y_pred),\n",
    "        'F1 Score': f1_score(y_true, y_pred)\n",
    "    }"
   ]
  },
  {
   "cell_type": "code",
   "execution_count": 106,
   "metadata": {},
   "outputs": [
    {
     "name": "stdout",
     "output_type": "stream",
     "text": [
      "\n",
      "Model Comparison:\n",
      "           Model  Accuracy  Precision    Recall  F1 Score\n",
      "0            SVM  0.989119   0.996842  0.981347  0.989034\n",
      "1  Random Forest  0.990155   0.998945  0.981347  0.990068\n"
     ]
    }
   ],
   "source": [
    "results = [\n",
    "    evaluate_model(y_test, svm_pred, \"SVM\"),\n",
    "    evaluate_model(y_test, rf_pred, \"Random Forest\")\n",
    "]\n",
    "\n",
    "results_df = pd.DataFrame(results)\n",
    "print(\"\\nModel Comparison:\")\n",
    "print(results_df)"
   ]
  },
  {
   "cell_type": "code",
   "execution_count": 107,
   "metadata": {},
   "outputs": [
    {
     "data": {
      "image/png": "[encoded data removed]",
      "text/plain": [
       "<Figure size 1200x500 with 4 Axes>"
      ]
     },
     "metadata": {},
     "output_type": "display_data"
    }
   ],
   "source": [
    "fig, axs = plt.subplots(1, 2, figsize=(12, 5))\n",
    "sns.heatmap(confusion_matrix(y_test, svm_pred), annot=True, fmt='d', ax=axs[0], cmap='Blues')\n",
    "axs[0].set_title('SVM Confusion Matrix')\n",
    "sns.heatmap(confusion_matrix(y_test, rf_pred), annot=True, fmt='d', ax=axs[1], cmap='Greens')\n",
    "axs[1].set_title('Random Forest Confusion Matrix')\n",
    "plt.show()"
   ]
  },
  {
   "cell_type": "code",
   "execution_count": 114,
   "metadata": {},
   "outputs": [],
   "source": [
    "def predict_message(model, messages):\n",
    "    messages_transformed = vectorizer.transform(messages)\n",
    "    preds = model.predict(messages_transformed)\n",
    "    return [\"Spam\" if pred == 1 else \"Not Spam\" for pred in preds]"
   ]
  },
  {
   "cell_type": "code",
   "execution_count": 115,
   "metadata": {},
   "outputs": [
    {
     "name": "stdout",
     "output_type": "stream",
     "text": [
      "\n",
      "Sample Predictions (SVM):\n",
      "[(\"Congratulations! You've won a free ticket to Bahamas. Call now!\", 'Spam'), ('Hi there, are we still meeting for lunch today?', 'Not Spam')]\n"
     ]
    }
   ],
   "source": [
    "sample_msgs = [\n",
    "    \"Congratulations! You've won a free ticket to Bahamas. Call now!\",\n",
    "    \"Hi there, are we still meeting for lunch today?\"\n",
    "]\n",
    "print(\"\\nSample Predictions (SVM):\")\n",
    "print(list(zip(sample_msgs, predict_message(rf_model, sample_msgs))))"
   ]
  }
 ],
 "metadata": {
  "kernelspec": {
   "display_name": "Python 3",
   "language": "python",
   "name": "python3"
  },
  "language_info": {
   "codemirror_mode": {
    "name": "ipython",
    "version": 3
   },
   "file_extension": ".py",
   "mimetype": "text/x-python",
   "name": "python",
   "nbconvert_exporter": "python",
   "pygments_lexer": "ipython3",
   "version": "3.13.0"
  }
 },
 "nbformat": 4,
 "nbformat_minor": 2
}
